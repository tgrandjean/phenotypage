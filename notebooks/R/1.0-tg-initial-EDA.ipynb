{
 "cells": [
  {
   "cell_type": "code",
   "execution_count": 1,
   "metadata": {
    "ExecuteTime": {
     "end_time": "2021-01-29T08:44:11.199708Z",
     "start_time": "2021-01-29T08:44:09.482Z"
    }
   },
   "outputs": [
    {
     "name": "stderr",
     "output_type": "stream",
     "text": [
      "-- \u001b[1mAttaching packages\u001b[22m ------------------------------------------------------------------------------- tidyverse 1.3.0 --\n",
      "\n",
      "\u001b[32mv\u001b[39m \u001b[34mggplot2\u001b[39m 3.3.3     \u001b[32mv\u001b[39m \u001b[34mpurrr  \u001b[39m 0.3.4\n",
      "\u001b[32mv\u001b[39m \u001b[34mtibble \u001b[39m 3.0.5     \u001b[32mv\u001b[39m \u001b[34mdplyr  \u001b[39m 1.0.3\n",
      "\u001b[32mv\u001b[39m \u001b[34mtidyr  \u001b[39m 1.1.2     \u001b[32mv\u001b[39m \u001b[34mstringr\u001b[39m 1.4.0\n",
      "\u001b[32mv\u001b[39m \u001b[34mreadr  \u001b[39m 1.4.0     \u001b[32mv\u001b[39m \u001b[34mforcats\u001b[39m 0.5.1\n",
      "\n",
      "-- \u001b[1mConflicts\u001b[22m ---------------------------------------------------------------------------------- tidyverse_conflicts() --\n",
      "\u001b[31mx\u001b[39m \u001b[34mdplyr\u001b[39m::\u001b[32mfilter()\u001b[39m masks \u001b[34mstats\u001b[39m::filter()\n",
      "\u001b[31mx\u001b[39m \u001b[34mdplyr\u001b[39m::\u001b[32mlag()\u001b[39m    masks \u001b[34mstats\u001b[39m::lag()\n",
      "\n"
     ]
    }
   ],
   "source": [
    "library(tidyverse)"
   ]
  },
  {
   "cell_type": "code",
   "execution_count": 2,
   "metadata": {
    "ExecuteTime": {
     "end_time": "2021-01-29T08:44:11.264535Z",
     "start_time": "2021-01-29T08:44:09.486Z"
    }
   },
   "outputs": [],
   "source": [
    "data <- as_tibble(read.csv('../../data/interim/reshaped_dataset.csv'))"
   ]
  },
  {
   "cell_type": "code",
   "execution_count": 3,
   "metadata": {
    "ExecuteTime": {
     "end_time": "2021-01-29T08:44:11.311411Z",
     "start_time": "2021-01-29T08:44:09.491Z"
    }
   },
   "outputs": [
    {
     "data": {
      "text/html": [
       "<table class=\"dataframe\">\n",
       "<caption>A tibble: 6 × 6</caption>\n",
       "<thead>\n",
       "\t<tr><th scope=col>Nom.plante</th><th scope=col>Hauteur</th><th scope=col>Nbr.taille</th><th scope=col>Poids.frais</th><th scope=col>Poids.sec</th><th scope=col>I</th></tr>\n",
       "\t<tr><th scope=col>&lt;chr&gt;</th><th scope=col>&lt;dbl&gt;</th><th scope=col>&lt;dbl&gt;</th><th scope=col>&lt;dbl&gt;</th><th scope=col>&lt;dbl&gt;</th><th scope=col>&lt;chr&gt;</th></tr>\n",
       "</thead>\n",
       "<tbody>\n",
       "\t<tr><td>2 </td><td>68.625</td><td>7.25</td><td>14.250</td><td>2.76650</td><td>False</td></tr>\n",
       "\t<tr><td>5 </td><td>75.375</td><td>3.25</td><td>11.250</td><td>2.30675</td><td>False</td></tr>\n",
       "\t<tr><td>8 </td><td>88.750</td><td>4.50</td><td>16.000</td><td>3.40350</td><td>False</td></tr>\n",
       "\t<tr><td>9 </td><td>79.500</td><td>3.75</td><td> 9.875</td><td>1.90725</td><td>False</td></tr>\n",
       "\t<tr><td>13</td><td>83.375</td><td>4.00</td><td>14.250</td><td>2.94650</td><td>False</td></tr>\n",
       "\t<tr><td>16</td><td>90.875</td><td>4.50</td><td>16.125</td><td>3.44700</td><td>False</td></tr>\n",
       "</tbody>\n",
       "</table>\n"
      ],
      "text/latex": [
       "A tibble: 6 × 6\n",
       "\\begin{tabular}{llllll}\n",
       " Nom.plante & Hauteur & Nbr.taille & Poids.frais & Poids.sec & I\\\\\n",
       " <chr> & <dbl> & <dbl> & <dbl> & <dbl> & <chr>\\\\\n",
       "\\hline\n",
       "\t 2  & 68.625 & 7.25 & 14.250 & 2.76650 & False\\\\\n",
       "\t 5  & 75.375 & 3.25 & 11.250 & 2.30675 & False\\\\\n",
       "\t 8  & 88.750 & 4.50 & 16.000 & 3.40350 & False\\\\\n",
       "\t 9  & 79.500 & 3.75 &  9.875 & 1.90725 & False\\\\\n",
       "\t 13 & 83.375 & 4.00 & 14.250 & 2.94650 & False\\\\\n",
       "\t 16 & 90.875 & 4.50 & 16.125 & 3.44700 & False\\\\\n",
       "\\end{tabular}\n"
      ],
      "text/markdown": [
       "\n",
       "A tibble: 6 × 6\n",
       "\n",
       "| Nom.plante &lt;chr&gt; | Hauteur &lt;dbl&gt; | Nbr.taille &lt;dbl&gt; | Poids.frais &lt;dbl&gt; | Poids.sec &lt;dbl&gt; | I &lt;chr&gt; |\n",
       "|---|---|---|---|---|---|\n",
       "| 2  | 68.625 | 7.25 | 14.250 | 2.76650 | False |\n",
       "| 5  | 75.375 | 3.25 | 11.250 | 2.30675 | False |\n",
       "| 8  | 88.750 | 4.50 | 16.000 | 3.40350 | False |\n",
       "| 9  | 79.500 | 3.75 |  9.875 | 1.90725 | False |\n",
       "| 13 | 83.375 | 4.00 | 14.250 | 2.94650 | False |\n",
       "| 16 | 90.875 | 4.50 | 16.125 | 3.44700 | False |\n",
       "\n"
      ],
      "text/plain": [
       "  Nom.plante Hauteur Nbr.taille Poids.frais Poids.sec I    \n",
       "1 2          68.625  7.25       14.250      2.76650   False\n",
       "2 5          75.375  3.25       11.250      2.30675   False\n",
       "3 8          88.750  4.50       16.000      3.40350   False\n",
       "4 9          79.500  3.75        9.875      1.90725   False\n",
       "5 13         83.375  4.00       14.250      2.94650   False\n",
       "6 16         90.875  4.50       16.125      3.44700   False"
      ]
     },
     "metadata": {},
     "output_type": "display_data"
    }
   ],
   "source": [
    "head(data)"
   ]
  },
  {
   "cell_type": "code",
   "execution_count": 4,
   "metadata": {
    "ExecuteTime": {
     "end_time": "2021-01-29T08:44:11.359282Z",
     "start_time": "2021-01-29T08:44:09.495Z"
    }
   },
   "outputs": [
    {
     "data": {
      "text/html": [
       "<style>\n",
       ".list-inline {list-style: none; margin:0; padding: 0}\n",
       ".list-inline>li {display: inline-block}\n",
       ".list-inline>li:not(:last-child)::after {content: \"\\00b7\"; padding: 0 .5ex}\n",
       "</style>\n",
       "<ol class=list-inline><li>'Nom.plante'</li><li>'Hauteur'</li><li>'Nbr.taille'</li><li>'Poids.frais'</li><li>'Poids.sec'</li><li>'I'</li></ol>\n"
      ],
      "text/latex": [
       "\\begin{enumerate*}\n",
       "\\item 'Nom.plante'\n",
       "\\item 'Hauteur'\n",
       "\\item 'Nbr.taille'\n",
       "\\item 'Poids.frais'\n",
       "\\item 'Poids.sec'\n",
       "\\item 'I'\n",
       "\\end{enumerate*}\n"
      ],
      "text/markdown": [
       "1. 'Nom.plante'\n",
       "2. 'Hauteur'\n",
       "3. 'Nbr.taille'\n",
       "4. 'Poids.frais'\n",
       "5. 'Poids.sec'\n",
       "6. 'I'\n",
       "\n",
       "\n"
      ],
      "text/plain": [
       "[1] \"Nom.plante\"  \"Hauteur\"     \"Nbr.taille\"  \"Poids.frais\" \"Poids.sec\"  \n",
       "[6] \"I\"          "
      ]
     },
     "metadata": {},
     "output_type": "display_data"
    }
   ],
   "source": [
    "colnames(data)"
   ]
  },
  {
   "cell_type": "code",
   "execution_count": 5,
   "metadata": {
    "ExecuteTime": {
     "end_time": "2021-01-29T08:44:11.406157Z",
     "start_time": "2021-01-29T08:44:09.500Z"
    }
   },
   "outputs": [],
   "source": [
    "data[data$I == \"False\", ]$I <- 'FALSE'\n",
    "data[data$I == \"True\", ]$I <- 'TRUE'"
   ]
  },
  {
   "cell_type": "code",
   "execution_count": 6,
   "metadata": {
    "ExecuteTime": {
     "end_time": "2021-01-29T08:44:11.445051Z",
     "start_time": "2021-01-29T08:44:09.502Z"
    }
   },
   "outputs": [],
   "source": [
    "data$I <- as.logical(data$I)"
   ]
  },
  {
   "cell_type": "code",
   "execution_count": 7,
   "metadata": {
    "ExecuteTime": {
     "end_time": "2021-01-29T08:44:11.483955Z",
     "start_time": "2021-01-29T08:44:09.504Z"
    }
   },
   "outputs": [
    {
     "data": {
      "text/html": [
       "<style>\n",
       ".dl-inline {width: auto; margin:0; padding: 0}\n",
       ".dl-inline>dt, .dl-inline>dd {float: none; width: auto; display: inline-block}\n",
       ".dl-inline>dt::after {content: \":\\0020\"; padding-right: .5ex}\n",
       ".dl-inline>dt:not(:first-of-type) {padding-left: .5ex}\n",
       "</style><dl class=dl-inline><dt>Nom.plante</dt><dd>'character'</dd><dt>Hauteur</dt><dd>'double'</dd><dt>Nbr.taille</dt><dd>'double'</dd><dt>Poids.frais</dt><dd>'double'</dd><dt>Poids.sec</dt><dd>'double'</dd><dt>I</dt><dd>'logical'</dd></dl>\n"
      ],
      "text/latex": [
       "\\begin{description*}\n",
       "\\item[Nom.plante] 'character'\n",
       "\\item[Hauteur] 'double'\n",
       "\\item[Nbr.taille] 'double'\n",
       "\\item[Poids.frais] 'double'\n",
       "\\item[Poids.sec] 'double'\n",
       "\\item[I] 'logical'\n",
       "\\end{description*}\n"
      ],
      "text/markdown": [
       "Nom.plante\n",
       ":   'character'Hauteur\n",
       ":   'double'Nbr.taille\n",
       ":   'double'Poids.frais\n",
       ":   'double'Poids.sec\n",
       ":   'double'I\n",
       ":   'logical'\n",
       "\n"
      ],
      "text/plain": [
       " Nom.plante     Hauteur  Nbr.taille Poids.frais   Poids.sec           I \n",
       "\"character\"    \"double\"    \"double\"    \"double\"    \"double\"   \"logical\" "
      ]
     },
     "metadata": {},
     "output_type": "display_data"
    }
   ],
   "source": [
    "sapply(data, typeof)"
   ]
  },
  {
   "cell_type": "markdown",
   "metadata": {},
   "source": [
    "## Analyse des hauteurs\n",
    "\n",
    "**Est-ce que l'inoculation a un effet ?**\n",
    "   * Distribution normale?\n",
    "   * Homogénéité des variances?"
   ]
  },
  {
   "cell_type": "code",
   "execution_count": 8,
   "metadata": {
    "ExecuteTime": {
     "end_time": "2021-01-29T08:44:11.796112Z",
     "start_time": "2021-01-29T08:44:09.507Z"
    }
   },
   "outputs": [
    {
     "data": {
      "image/png": "[encoded data removed]",
      "text/plain": [
       "plot without title"
      ]
     },
     "metadata": {
      "image/png": {
       "height": 420,
       "width": 420
      }
     },
     "output_type": "display_data"
    }
   ],
   "source": [
    "ggplot(data) + geom_boxplot(aes(y= Hauteur, x=I))"
   ]
  },
  {
   "cell_type": "markdown",
   "metadata": {},
   "source": [
    "Il semble que les moyennes soit différentes en fonction de l'inoculation"
   ]
  },
  {
   "cell_type": "markdown",
   "metadata": {},
   "source": [
    "### Test de normalité\n",
    "\n",
    "H$_0$ l'échantillon provient d'une distribution normale"
   ]
  },
  {
   "cell_type": "code",
   "execution_count": 9,
   "metadata": {
    "ExecuteTime": {
     "end_time": "2021-01-29T08:44:12.024501Z",
     "start_time": "2021-01-29T08:44:09.511Z"
    }
   },
   "outputs": [
    {
     "data": {
      "image/png": "[encoded data removed]",
      "text/plain": [
       "plot without title"
      ]
     },
     "metadata": {
      "image/png": {
       "height": 420,
       "width": 420
      }
     },
     "output_type": "display_data"
    }
   ],
   "source": [
    "ggplot(data) + geom_density(kernel='gaussian', aes(x=Hauteur))"
   ]
  },
  {
   "cell_type": "code",
   "execution_count": 10,
   "metadata": {
    "ExecuteTime": {
     "end_time": "2021-01-29T08:44:12.068385Z",
     "start_time": "2021-01-29T08:44:09.515Z"
    }
   },
   "outputs": [
    {
     "data": {
      "text/plain": [
       "\n",
       "\tShapiro-Wilk normality test\n",
       "\n",
       "data:  data$Hauteur\n",
       "W = 0.99537, p-value = 0.3246\n"
      ]
     },
     "metadata": {},
     "output_type": "display_data"
    }
   ],
   "source": [
    "shapiro.test(data$Hauteur)"
   ]
  },
  {
   "cell_type": "markdown",
   "metadata": {},
   "source": [
    "p-value > $\\alpha$ (0,05) $\\rightarrow$ H$_0$ ne peut pas être rejeté\n",
    "\n",
    "La distribution semble issue d'une distribution normale"
   ]
  },
  {
   "cell_type": "markdown",
   "metadata": {},
   "source": [
    "### Homogénéité des variances"
   ]
  },
  {
   "cell_type": "code",
   "execution_count": 11,
   "metadata": {
    "ExecuteTime": {
     "end_time": "2021-01-29T08:44:12.404516Z",
     "start_time": "2021-01-29T08:44:09.520Z"
    }
   },
   "outputs": [
    {
     "data": {
      "image/png": "[encoded data removed]",
      "text/plain": [
       "plot without title"
      ]
     },
     "metadata": {
      "image/png": {
       "height": 420,
       "width": 420
      }
     },
     "output_type": "display_data"
    }
   ],
   "source": [
    "ggplot(data, aes(x=Hauteur, color=I)) + geom_density(kernel='gaussian')"
   ]
  },
  {
   "cell_type": "code",
   "execution_count": 12,
   "metadata": {
    "ExecuteTime": {
     "end_time": "2021-01-29T08:44:12.446404Z",
     "start_time": "2021-01-29T08:44:09.522Z"
    }
   },
   "outputs": [
    {
     "data": {
      "text/plain": [
       "\n",
       "\tBartlett test of homogeneity of variances\n",
       "\n",
       "data:  Hauteur by I\n",
       "Bartlett's K-squared = 3.2198, df = 1, p-value = 0.07275\n"
      ]
     },
     "metadata": {},
     "output_type": "display_data"
    }
   ],
   "source": [
    "bartlett.test(Hauteur ~ I, data=data)"
   ]
  },
  {
   "cell_type": "markdown",
   "metadata": {},
   "source": [
    "### Les moyennes sont-elles différentes?"
   ]
  },
  {
   "cell_type": "code",
   "execution_count": 13,
   "metadata": {
    "ExecuteTime": {
     "end_time": "2021-01-29T08:44:12.490287Z",
     "start_time": "2021-01-29T08:44:09.525Z"
    }
   },
   "outputs": [
    {
     "data": {
      "text/plain": [
       "\n",
       "\tWelch Two Sample t-test\n",
       "\n",
       "data:  Hauteur by I\n",
       "t = -6.9729, df = 369.71, p-value = 1.437e-11\n",
       "alternative hypothesis: true difference in means is not equal to 0\n",
       "95 percent confidence interval:\n",
       " -9.323648 -5.221766\n",
       "sample estimates:\n",
       "mean in group FALSE  mean in group TRUE \n",
       "           80.94599            88.21869 \n"
      ]
     },
     "metadata": {},
     "output_type": "display_data"
    }
   ],
   "source": [
    "t.test(Hauteur ~ I, data=data)"
   ]
  },
  {
   "cell_type": "markdown",
   "metadata": {},
   "source": [
    "## Analyse des poids sec"
   ]
  },
  {
   "cell_type": "code",
   "execution_count": 14,
   "metadata": {
    "ExecuteTime": {
     "end_time": "2021-01-29T08:44:12.713689Z",
     "start_time": "2021-01-29T08:44:09.531Z"
    }
   },
   "outputs": [
    {
     "data": {
      "image/png": "[encoded data removed]",
      "text/plain": [
       "plot without title"
      ]
     },
     "metadata": {
      "image/png": {
       "height": 420,
       "width": 420
      }
     },
     "output_type": "display_data"
    }
   ],
   "source": [
    "ggplot(data) + geom_boxplot(aes(y= Poids.sec, x=I))"
   ]
  },
  {
   "cell_type": "markdown",
   "metadata": {},
   "source": [
    "Les distributions semblent contenir des outliers"
   ]
  },
  {
   "cell_type": "code",
   "execution_count": 15,
   "metadata": {
    "ExecuteTime": {
     "end_time": "2021-01-29T08:44:12.743608Z",
     "start_time": "2021-01-29T08:44:09.537Z"
    }
   },
   "outputs": [],
   "source": [
    "I = data[ which(data$I == TRUE), ]\n",
    "NI = data[ which(data$I == FALSE), ]"
   ]
  },
  {
   "cell_type": "code",
   "execution_count": 16,
   "metadata": {
    "ExecuteTime": {
     "end_time": "2021-01-29T08:44:12.790484Z",
     "start_time": "2021-01-29T08:44:09.542Z"
    }
   },
   "outputs": [
    {
     "data": {
      "text/html": [
       "<style>\n",
       ".dl-inline {width: auto; margin:0; padding: 0}\n",
       ".dl-inline>dt, .dl-inline>dd {float: none; width: auto; display: inline-block}\n",
       ".dl-inline>dt::after {content: \":\\0020\"; padding-right: .5ex}\n",
       ".dl-inline>dt:not(:first-of-type) {padding-left: .5ex}\n",
       "</style><dl class=dl-inline><dt>25%</dt><dd>3.333666667</dd><dt>75%</dt><dd>4.423666667</dd></dl>\n"
      ],
      "text/latex": [
       "\\begin{description*}\n",
       "\\item[25\\textbackslash{}\\%] 3.333666667\n",
       "\\item[75\\textbackslash{}\\%] 4.423666667\n",
       "\\end{description*}\n"
      ],
      "text/markdown": [
       "25%\n",
       ":   3.33366666775%\n",
       ":   4.423666667\n",
       "\n"
      ],
      "text/plain": [
       "     25%      75% \n",
       "3.333667 4.423667 "
      ]
     },
     "metadata": {},
     "output_type": "display_data"
    }
   ],
   "source": [
    "Q_I <- quantile(I$Poids.sec, probs=c(.25, .75))\n",
    "Q_I"
   ]
  },
  {
   "cell_type": "code",
   "execution_count": 17,
   "metadata": {
    "ExecuteTime": {
     "end_time": "2021-01-29T08:44:12.830377Z",
     "start_time": "2021-01-29T08:44:09.546Z"
    }
   },
   "outputs": [
    {
     "data": {
      "text/html": [
       "1.09"
      ],
      "text/latex": [
       "1.09"
      ],
      "text/markdown": [
       "1.09"
      ],
      "text/plain": [
       "[1] 1.09"
      ]
     },
     "metadata": {},
     "output_type": "display_data"
    }
   ],
   "source": [
    "iqr_I <- IQR(I$Poids.sec)\n",
    "iqr_I"
   ]
  },
  {
   "cell_type": "code",
   "execution_count": 18,
   "metadata": {
    "ExecuteTime": {
     "end_time": "2021-01-29T08:44:12.884243Z",
     "start_time": "2021-01-29T08:44:09.555Z"
    }
   },
   "outputs": [
    {
     "data": {
      "text/html": [
       "<strong>75%:</strong> 6.058666667"
      ],
      "text/latex": [
       "\\textbf{75\\textbackslash{}\\%:} 6.058666667"
      ],
      "text/markdown": [
       "**75%:** 6.058666667"
      ],
      "text/plain": [
       "     75% \n",
       "6.058667 "
      ]
     },
     "metadata": {},
     "output_type": "display_data"
    },
    {
     "data": {
      "text/html": [
       "<strong>25%:</strong> 1.698666667"
      ],
      "text/latex": [
       "\\textbf{25\\textbackslash{}\\%:} 1.698666667"
      ],
      "text/markdown": [
       "**25%:** 1.698666667"
      ],
      "text/plain": [
       "     25% \n",
       "1.698667 "
      ]
     },
     "metadata": {},
     "output_type": "display_data"
    }
   ],
   "source": [
    "up_I = Q_I[2] + 1.5 * iqr_I\n",
    "low_I = Q_I[1] - 1.5 * iqr_I\n",
    "up_I\n",
    "low_I"
   ]
  },
  {
   "cell_type": "code",
   "execution_count": 19,
   "metadata": {
    "ExecuteTime": {
     "end_time": "2021-01-29T08:44:12.928118Z",
     "start_time": "2021-01-29T08:44:09.558Z"
    }
   },
   "outputs": [
    {
     "data": {
      "text/html": [
       "<style>\n",
       ".dl-inline {width: auto; margin:0; padding: 0}\n",
       ".dl-inline>dt, .dl-inline>dd {float: none; width: auto; display: inline-block}\n",
       ".dl-inline>dt::after {content: \":\\0020\"; padding-right: .5ex}\n",
       ".dl-inline>dt:not(:first-of-type) {padding-left: .5ex}\n",
       "</style><dl class=dl-inline><dt>25%</dt><dd>2.03675</dd><dt>75%</dt><dd>2.76425</dd></dl>\n"
      ],
      "text/latex": [
       "\\begin{description*}\n",
       "\\item[25\\textbackslash{}\\%] 2.03675\n",
       "\\item[75\\textbackslash{}\\%] 2.76425\n",
       "\\end{description*}\n"
      ],
      "text/markdown": [
       "25%\n",
       ":   2.0367575%\n",
       ":   2.76425\n",
       "\n"
      ],
      "text/plain": [
       "    25%     75% \n",
       "2.03675 2.76425 "
      ]
     },
     "metadata": {},
     "output_type": "display_data"
    }
   ],
   "source": [
    "Q_NI <- quantile(NI$Poids.sec, probs=c(.25, .75))\n",
    "Q_NI"
   ]
  },
  {
   "cell_type": "code",
   "execution_count": 20,
   "metadata": {
    "ExecuteTime": {
     "end_time": "2021-01-29T08:44:12.972011Z",
     "start_time": "2021-01-29T08:44:09.560Z"
    }
   },
   "outputs": [
    {
     "data": {
      "text/html": [
       "0.7275"
      ],
      "text/latex": [
       "0.7275"
      ],
      "text/markdown": [
       "0.7275"
      ],
      "text/plain": [
       "[1] 0.7275"
      ]
     },
     "metadata": {},
     "output_type": "display_data"
    }
   ],
   "source": [
    "iqr_NI <- IQR(NI$Poids.sec)\n",
    "iqr_NI"
   ]
  },
  {
   "cell_type": "code",
   "execution_count": 21,
   "metadata": {
    "ExecuteTime": {
     "end_time": "2021-01-29T08:44:13.025854Z",
     "start_time": "2021-01-29T08:44:09.563Z"
    }
   },
   "outputs": [
    {
     "data": {
      "text/html": [
       "<strong>75%:</strong> 3.8555"
      ],
      "text/latex": [
       "\\textbf{75\\textbackslash{}\\%:} 3.8555"
      ],
      "text/markdown": [
       "**75%:** 3.8555"
      ],
      "text/plain": [
       "   75% \n",
       "3.8555 "
      ]
     },
     "metadata": {},
     "output_type": "display_data"
    },
    {
     "data": {
      "text/html": [
       "<strong>25%:</strong> 0.9455"
      ],
      "text/latex": [
       "\\textbf{25\\textbackslash{}\\%:} 0.9455"
      ],
      "text/markdown": [
       "**25%:** 0.9455"
      ],
      "text/plain": [
       "   25% \n",
       "0.9455 "
      ]
     },
     "metadata": {},
     "output_type": "display_data"
    }
   ],
   "source": [
    "up_NI = Q_NI[2] + 1.5 * iqr_NI\n",
    "low_NI = Q_NI[1] - 1.5 * iqr_NI\n",
    "up_NI\n",
    "low_NI"
   ]
  },
  {
   "cell_type": "code",
   "execution_count": 22,
   "metadata": {
    "ExecuteTime": {
     "end_time": "2021-01-29T08:44:13.064752Z",
     "start_time": "2021-01-29T08:44:09.566Z"
    }
   },
   "outputs": [],
   "source": [
    "I_NO <- subset(I, Poids.sec > low_I & Poids.sec < up_I)"
   ]
  },
  {
   "cell_type": "code",
   "execution_count": 23,
   "metadata": {
    "ExecuteTime": {
     "end_time": "2021-01-29T08:44:13.101664Z",
     "start_time": "2021-01-29T08:44:09.569Z"
    }
   },
   "outputs": [],
   "source": [
    "NI_NO <- subset(NI, Poids.sec > low_NI & Poids.sec < up_NI)"
   ]
  },
  {
   "cell_type": "code",
   "execution_count": 24,
   "metadata": {
    "ExecuteTime": {
     "end_time": "2021-01-29T08:44:13.143542Z",
     "start_time": "2021-01-29T08:44:09.571Z"
    }
   },
   "outputs": [],
   "source": [
    "data_NO <- rbind(NI_NO, I_NO)"
   ]
  },
  {
   "cell_type": "code",
   "execution_count": 25,
   "metadata": {
    "ExecuteTime": {
     "end_time": "2021-01-29T08:44:13.354981Z",
     "start_time": "2021-01-29T08:44:09.574Z"
    }
   },
   "outputs": [
    {
     "data": {
      "image/png": "[encoded data removed]",
      "text/plain": [
       "plot without title"
      ]
     },
     "metadata": {
      "image/png": {
       "height": 420,
       "width": 420
      }
     },
     "output_type": "display_data"
    }
   ],
   "source": [
    "ggplot(data_NO) + geom_boxplot(aes(y= Poids.sec, x=I))"
   ]
  },
  {
   "cell_type": "markdown",
   "metadata": {},
   "source": [
    "### Test de normalité\n",
    "\n",
    "H$_0$ l'échantillon provient d'une distribution normale"
   ]
  },
  {
   "cell_type": "code",
   "execution_count": 26,
   "metadata": {
    "ExecuteTime": {
     "end_time": "2021-01-29T08:44:13.589393Z",
     "start_time": "2021-01-29T08:44:09.579Z"
    }
   },
   "outputs": [
    {
     "data": {
      "image/png": "[encoded data removed]",
      "text/plain": [
       "plot without title"
      ]
     },
     "metadata": {
      "image/png": {
       "height": 420,
       "width": 420
      }
     },
     "output_type": "display_data"
    }
   ],
   "source": [
    "ggplot(data_NO) + geom_density(kernel='gaussian', aes(x=Poids.sec))"
   ]
  },
  {
   "cell_type": "code",
   "execution_count": 27,
   "metadata": {
    "ExecuteTime": {
     "end_time": "2021-01-29T08:44:13.901833Z",
     "start_time": "2021-01-29T08:44:09.583Z"
    }
   },
   "outputs": [
    {
     "data": {
      "image/png": "[encoded data removed]",
      "text/plain": [
       "plot without title"
      ]
     },
     "metadata": {
      "image/png": {
       "height": 420,
       "width": 420
      }
     },
     "output_type": "display_data"
    }
   ],
   "source": [
    "ggplot(data_NO, aes(x=Poids.sec, color=I)) + geom_density(kernel='gaussian')"
   ]
  },
  {
   "cell_type": "code",
   "execution_count": 28,
   "metadata": {
    "ExecuteTime": {
     "end_time": "2021-01-29T08:44:13.937757Z",
     "start_time": "2021-01-29T08:44:09.586Z"
    }
   },
   "outputs": [
    {
     "data": {
      "text/plain": [
       "\n",
       "\tShapiro-Wilk normality test\n",
       "\n",
       "data:  data_NO$Poids.sec\n",
       "W = 0.97537, p-value = 6.127e-06\n"
      ]
     },
     "metadata": {},
     "output_type": "display_data"
    }
   ],
   "source": [
    "shapiro.test(data_NO$Poids.sec)"
   ]
  },
  {
   "cell_type": "code",
   "execution_count": 29,
   "metadata": {
    "ExecuteTime": {
     "end_time": "2021-01-29T08:44:14.149158Z",
     "start_time": "2021-01-29T08:44:09.589Z"
    }
   },
   "outputs": [
    {
     "data": {
      "image/png": "[encoded data removed]",
      "text/plain": [
       "plot without title"
      ]
     },
     "metadata": {
      "image/png": {
       "height": 420,
       "width": 420
      }
     },
     "output_type": "display_data"
    }
   ],
   "source": [
    "ggplot(NI_NO) + geom_density(kernel='gaussian', aes(x = Poids.sec))"
   ]
  },
  {
   "cell_type": "code",
   "execution_count": 30,
   "metadata": {
    "ExecuteTime": {
     "end_time": "2021-01-29T08:44:14.187061Z",
     "start_time": "2021-01-29T08:44:09.591Z"
    }
   },
   "outputs": [
    {
     "data": {
      "text/plain": [
       "\n",
       "\tShapiro-Wilk normality test\n",
       "\n",
       "data:  NI_NO$Poids.sec\n",
       "W = 0.99479, p-value = 0.762\n"
      ]
     },
     "metadata": {},
     "output_type": "display_data"
    }
   ],
   "source": [
    "shapiro.test(NI_NO$Poids.sec)"
   ]
  },
  {
   "cell_type": "code",
   "execution_count": 31,
   "metadata": {
    "ExecuteTime": {
     "end_time": "2021-01-29T08:44:14.497235Z",
     "start_time": "2021-01-29T08:44:09.593Z"
    }
   },
   "outputs": [
    {
     "data": {
      "image/png": "[encoded data removed]",
      "text/plain": [
       "plot without title"
      ]
     },
     "metadata": {
      "image/png": {
       "height": 420,
       "width": 420
      }
     },
     "output_type": "display_data"
    }
   ],
   "source": [
    "ggplot(I_NO) + geom_density(kernel='gaussian', aes(x = Poids.sec))"
   ]
  },
  {
   "cell_type": "code",
   "execution_count": 32,
   "metadata": {
    "ExecuteTime": {
     "end_time": "2021-01-29T08:44:14.557072Z",
     "start_time": "2021-01-29T08:44:09.597Z"
    }
   },
   "outputs": [
    {
     "data": {
      "text/plain": [
       "\n",
       "\tShapiro-Wilk normality test\n",
       "\n",
       "data:  I_NO$Poids.sec\n",
       "W = 0.98648, p-value = 0.07635\n"
      ]
     },
     "metadata": {},
     "output_type": "display_data"
    }
   ],
   "source": [
    "shapiro.test(I_NO$Poids.sec)"
   ]
  },
  {
   "cell_type": "markdown",
   "metadata": {},
   "source": [
    "### Homogénéité des variances"
   ]
  },
  {
   "cell_type": "code",
   "execution_count": 33,
   "metadata": {
    "ExecuteTime": {
     "end_time": "2021-01-29T08:44:14.612927Z",
     "start_time": "2021-01-29T08:44:09.600Z"
    }
   },
   "outputs": [
    {
     "data": {
      "text/plain": [
       "\n",
       "\tBartlett test of homogeneity of variances\n",
       "\n",
       "data:  Poids.sec by I\n",
       "Bartlett's K-squared = 28.047, df = 1, p-value = 1.184e-07\n"
      ]
     },
     "metadata": {},
     "output_type": "display_data"
    }
   ],
   "source": [
    "bartlett.test(Poids.sec ~ I, data=data)"
   ]
  },
  {
   "cell_type": "markdown",
   "metadata": {},
   "source": [
    "### Les moyennes sont-elles différentes?"
   ]
  },
  {
   "cell_type": "code",
   "execution_count": 34,
   "metadata": {
    "ExecuteTime": {
     "end_time": "2021-01-29T08:44:14.653810Z",
     "start_time": "2021-01-29T08:44:09.603Z"
    }
   },
   "outputs": [
    {
     "data": {
      "text/plain": [
       "\n",
       "\tWelch Two Sample t-test\n",
       "\n",
       "data:  Poids.sec by I\n",
       "t = -22.406, df = 337.28, p-value < 2.2e-16\n",
       "alternative hypothesis: true difference in means is not equal to 0\n",
       "95 percent confidence interval:\n",
       " -1.66401 -1.39542\n",
       "sample estimates:\n",
       "mean in group FALSE  mean in group TRUE \n",
       "           2.387802            3.917517 \n"
      ]
     },
     "metadata": {},
     "output_type": "display_data"
    }
   ],
   "source": [
    "t.test(Poids.sec ~ I, data=data_NO)"
   ]
  },
  {
   "cell_type": "code",
   "execution_count": null,
   "metadata": {},
   "outputs": [],
   "source": []
  }
 ],
 "metadata": {
  "kernelspec": {
   "display_name": "R",
   "language": "R",
   "name": "ir"
  },
  "language_info": {
   "codemirror_mode": "r",
   "file_extension": ".r",
   "mimetype": "text/x-r-source",
   "name": "R",
   "pygments_lexer": "r",
   "version": "4.0.3"
  },
  "toc": {
   "base_numbering": 1,
   "nav_menu": {},
   "number_sections": true,
   "sideBar": true,
   "skip_h1_title": false,
   "title_cell": "Table of Contents",
   "title_sidebar": "Contents",
   "toc_cell": false,
   "toc_position": {},
   "toc_section_display": true,
   "toc_window_display": false
  },
  "varInspector": {
   "cols": {
    "lenName": 16,
    "lenType": 16,
    "lenVar": 40
   },
   "kernels_config": {
    "python": {
     "delete_cmd_postfix": "",
     "delete_cmd_prefix": "del ",
     "library": "var_list.py",
     "varRefreshCmd": "print(var_dic_list())"
    },
    "r": {
     "delete_cmd_postfix": ") ",
     "delete_cmd_prefix": "rm(",
     "library": "var_list.r",
     "varRefreshCmd": "cat(var_dic_list()) "
    }
   },
   "types_to_exclude": [
    "module",
    "function",
    "builtin_function_or_method",
    "instance",
    "_Feature"
   ],
   "window_display": false
  }
 },
 "nbformat": 4,
 "nbformat_minor": 2
}
