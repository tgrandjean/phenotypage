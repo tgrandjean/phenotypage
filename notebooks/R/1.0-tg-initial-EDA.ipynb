{
 "cells": [
  {
   "cell_type": "code",
   "execution_count": 1,
   "metadata": {
    "ExecuteTime": {
     "end_time": "2021-01-29T10:27:42.914096Z",
     "start_time": "2021-01-29T10:27:41.270Z"
    }
   },
   "outputs": [
    {
     "name": "stderr",
     "output_type": "stream",
     "text": [
      "-- \u001b[1mAttaching packages\u001b[22m ------------------------------------------------------------------------------- tidyverse 1.3.0 --\n",
      "\n",
      "\u001b[32mv\u001b[39m \u001b[34mggplot2\u001b[39m 3.3.3     \u001b[32mv\u001b[39m \u001b[34mpurrr  \u001b[39m 0.3.4\n",
      "\u001b[32mv\u001b[39m \u001b[34mtibble \u001b[39m 3.0.5     \u001b[32mv\u001b[39m \u001b[34mdplyr  \u001b[39m 1.0.3\n",
      "\u001b[32mv\u001b[39m \u001b[34mtidyr  \u001b[39m 1.1.2     \u001b[32mv\u001b[39m \u001b[34mstringr\u001b[39m 1.4.0\n",
      "\u001b[32mv\u001b[39m \u001b[34mreadr  \u001b[39m 1.4.0     \u001b[32mv\u001b[39m \u001b[34mforcats\u001b[39m 0.5.1\n",
      "\n",
      "-- \u001b[1mConflicts\u001b[22m ---------------------------------------------------------------------------------- tidyverse_conflicts() --\n",
      "\u001b[31mx\u001b[39m \u001b[34mdplyr\u001b[39m::\u001b[32mfilter()\u001b[39m  masks \u001b[34mstats\u001b[39m::filter()\n",
      "\u001b[31mx\u001b[39m \u001b[34mpurrr\u001b[39m::\u001b[32mflatten()\u001b[39m masks \u001b[34mjsonlite\u001b[39m::flatten()\n",
      "\u001b[31mx\u001b[39m \u001b[34mdplyr\u001b[39m::\u001b[32mlag()\u001b[39m     masks \u001b[34mstats\u001b[39m::lag()\n",
      "\n"
     ]
    }
   ],
   "source": [
    "library(tidyverse)\n",
    "library(openxlsx)"
   ]
  },
  {
   "cell_type": "markdown",
   "metadata": {},
   "source": [
    "# Chargement des données"
   ]
  },
  {
   "cell_type": "code",
   "execution_count": 2,
   "metadata": {
    "ExecuteTime": {
     "end_time": "2021-01-29T10:27:43.488935Z",
     "start_time": "2021-01-29T10:27:43.397Z"
    }
   },
   "outputs": [],
   "source": [
    "data <- as_tibble(read.xlsx('../../data/interim/preprocessed.xlsx'))"
   ]
  },
  {
   "cell_type": "code",
   "execution_count": 3,
   "metadata": {
    "ExecuteTime": {
     "end_time": "2021-01-29T10:27:44.107244Z",
     "start_time": "2021-01-29T10:27:44.038Z"
    }
   },
   "outputs": [
    {
     "data": {
      "text/html": [
       "<table class=\"dataframe\">\n",
       "<caption>A tibble: 6 × 6</caption>\n",
       "<thead>\n",
       "\t<tr><th scope=col>Nom.plante</th><th scope=col>Hauteur</th><th scope=col>Nbr.taille</th><th scope=col>Poids.frais</th><th scope=col>Poids.sec</th><th scope=col>I</th></tr>\n",
       "\t<tr><th scope=col>&lt;dbl&gt;</th><th scope=col>&lt;dbl&gt;</th><th scope=col>&lt;dbl&gt;</th><th scope=col>&lt;dbl&gt;</th><th scope=col>&lt;dbl&gt;</th><th scope=col>&lt;lgl&gt;</th></tr>\n",
       "</thead>\n",
       "<tbody>\n",
       "\t<tr><td> 2</td><td>68.625</td><td>7.25</td><td>14.250</td><td>2.76650</td><td>FALSE</td></tr>\n",
       "\t<tr><td> 5</td><td>75.375</td><td>3.25</td><td>11.250</td><td>2.30675</td><td>FALSE</td></tr>\n",
       "\t<tr><td> 8</td><td>88.750</td><td>4.50</td><td>16.000</td><td>3.40350</td><td>FALSE</td></tr>\n",
       "\t<tr><td> 9</td><td>79.500</td><td>3.75</td><td> 9.875</td><td>1.90725</td><td>FALSE</td></tr>\n",
       "\t<tr><td>13</td><td>83.375</td><td>4.00</td><td>14.250</td><td>2.94650</td><td>FALSE</td></tr>\n",
       "\t<tr><td>16</td><td>90.875</td><td>4.50</td><td>16.125</td><td>3.44700</td><td>FALSE</td></tr>\n",
       "</tbody>\n",
       "</table>\n"
      ],
      "text/latex": [
       "A tibble: 6 × 6\n",
       "\\begin{tabular}{llllll}\n",
       " Nom.plante & Hauteur & Nbr.taille & Poids.frais & Poids.sec & I\\\\\n",
       " <dbl> & <dbl> & <dbl> & <dbl> & <dbl> & <lgl>\\\\\n",
       "\\hline\n",
       "\t  2 & 68.625 & 7.25 & 14.250 & 2.76650 & FALSE\\\\\n",
       "\t  5 & 75.375 & 3.25 & 11.250 & 2.30675 & FALSE\\\\\n",
       "\t  8 & 88.750 & 4.50 & 16.000 & 3.40350 & FALSE\\\\\n",
       "\t  9 & 79.500 & 3.75 &  9.875 & 1.90725 & FALSE\\\\\n",
       "\t 13 & 83.375 & 4.00 & 14.250 & 2.94650 & FALSE\\\\\n",
       "\t 16 & 90.875 & 4.50 & 16.125 & 3.44700 & FALSE\\\\\n",
       "\\end{tabular}\n"
      ],
      "text/markdown": [
       "\n",
       "A tibble: 6 × 6\n",
       "\n",
       "| Nom.plante &lt;dbl&gt; | Hauteur &lt;dbl&gt; | Nbr.taille &lt;dbl&gt; | Poids.frais &lt;dbl&gt; | Poids.sec &lt;dbl&gt; | I &lt;lgl&gt; |\n",
       "|---|---|---|---|---|---|\n",
       "|  2 | 68.625 | 7.25 | 14.250 | 2.76650 | FALSE |\n",
       "|  5 | 75.375 | 3.25 | 11.250 | 2.30675 | FALSE |\n",
       "|  8 | 88.750 | 4.50 | 16.000 | 3.40350 | FALSE |\n",
       "|  9 | 79.500 | 3.75 |  9.875 | 1.90725 | FALSE |\n",
       "| 13 | 83.375 | 4.00 | 14.250 | 2.94650 | FALSE |\n",
       "| 16 | 90.875 | 4.50 | 16.125 | 3.44700 | FALSE |\n",
       "\n"
      ],
      "text/plain": [
       "  Nom.plante Hauteur Nbr.taille Poids.frais Poids.sec I    \n",
       "1  2         68.625  7.25       14.250      2.76650   FALSE\n",
       "2  5         75.375  3.25       11.250      2.30675   FALSE\n",
       "3  8         88.750  4.50       16.000      3.40350   FALSE\n",
       "4  9         79.500  3.75        9.875      1.90725   FALSE\n",
       "5 13         83.375  4.00       14.250      2.94650   FALSE\n",
       "6 16         90.875  4.50       16.125      3.44700   FALSE"
      ]
     },
     "metadata": {},
     "output_type": "display_data"
    }
   ],
   "source": [
    "head(data)"
   ]
  },
  {
   "cell_type": "code",
   "execution_count": 4,
   "metadata": {
    "ExecuteTime": {
     "end_time": "2021-01-29T10:27:47.144101Z",
     "start_time": "2021-01-29T10:27:47.099Z"
    }
   },
   "outputs": [
    {
     "data": {
      "text/html": [
       "<style>\n",
       ".list-inline {list-style: none; margin:0; padding: 0}\n",
       ".list-inline>li {display: inline-block}\n",
       ".list-inline>li:not(:last-child)::after {content: \"\\00b7\"; padding: 0 .5ex}\n",
       "</style>\n",
       "<ol class=list-inline><li>'Nom.plante'</li><li>'Hauteur'</li><li>'Nbr.taille'</li><li>'Poids.frais'</li><li>'Poids.sec'</li><li>'I'</li></ol>\n"
      ],
      "text/latex": [
       "\\begin{enumerate*}\n",
       "\\item 'Nom.plante'\n",
       "\\item 'Hauteur'\n",
       "\\item 'Nbr.taille'\n",
       "\\item 'Poids.frais'\n",
       "\\item 'Poids.sec'\n",
       "\\item 'I'\n",
       "\\end{enumerate*}\n"
      ],
      "text/markdown": [
       "1. 'Nom.plante'\n",
       "2. 'Hauteur'\n",
       "3. 'Nbr.taille'\n",
       "4. 'Poids.frais'\n",
       "5. 'Poids.sec'\n",
       "6. 'I'\n",
       "\n",
       "\n"
      ],
      "text/plain": [
       "[1] \"Nom.plante\"  \"Hauteur\"     \"Nbr.taille\"  \"Poids.frais\" \"Poids.sec\"  \n",
       "[6] \"I\"          "
      ]
     },
     "metadata": {},
     "output_type": "display_data"
    }
   ],
   "source": [
    "colnames(data)"
   ]
  },
  {
   "cell_type": "markdown",
   "metadata": {},
   "source": [
    "# Analyse des distributions"
   ]
  },
  {
   "cell_type": "markdown",
   "metadata": {},
   "source": [
    "## Hauteurs\n",
    "\n",
    "**Est-ce que l'inoculation a un effet ?**\n",
    "   * Distribution normale?\n",
    "   * Homogénéité des variances?"
   ]
  },
  {
   "cell_type": "code",
   "execution_count": 5,
   "metadata": {
    "ExecuteTime": {
     "end_time": "2021-01-29T10:27:48.601786Z",
     "start_time": "2021-01-29T10:27:48.278Z"
    }
   },
   "outputs": [
    {
     "data": {
      "image/png": "[encoded data removed]",
      "text/plain": [
       "plot without title"
      ]
     },
     "metadata": {
      "image/png": {
       "height": 420,
       "width": 420
      }
     },
     "output_type": "display_data"
    }
   ],
   "source": [
    "ggplot(data) + geom_boxplot(aes(y= Hauteur, x=I))"
   ]
  },
  {
   "cell_type": "markdown",
   "metadata": {},
   "source": [
    "Il semble que les moyennes soit différentes en fonction de l'inoculation"
   ]
  },
  {
   "cell_type": "markdown",
   "metadata": {},
   "source": [
    "### Test de normalité\n",
    "\n",
    "H$_0$ l'échantillon provient d'une distribution normale"
   ]
  },
  {
   "cell_type": "code",
   "execution_count": 6,
   "metadata": {
    "ExecuteTime": {
     "end_time": "2021-01-29T10:27:51.387885Z",
     "start_time": "2021-01-29T10:27:51.152Z"
    }
   },
   "outputs": [
    {
     "data": {
      "image/png": "[encoded data removed]",
      "text/plain": [
       "plot without title"
      ]
     },
     "metadata": {
      "image/png": {
       "height": 420,
       "width": 420
      }
     },
     "output_type": "display_data"
    }
   ],
   "source": [
    "ggplot(data) + geom_density(kernel='gaussian', aes(x=Hauteur))"
   ]
  },
  {
   "cell_type": "code",
   "execution_count": 7,
   "metadata": {
    "ExecuteTime": {
     "end_time": "2021-01-29T10:27:53.419777Z",
     "start_time": "2021-01-29T10:27:53.386Z"
    }
   },
   "outputs": [
    {
     "data": {
      "text/plain": [
       "\n",
       "\tShapiro-Wilk normality test\n",
       "\n",
       "data:  data$Hauteur\n",
       "W = 0.99524, p-value = 0.3513\n"
      ]
     },
     "metadata": {},
     "output_type": "display_data"
    }
   ],
   "source": [
    "shapiro.test(data$Hauteur)"
   ]
  },
  {
   "cell_type": "markdown",
   "metadata": {},
   "source": [
    "p-value > $\\alpha$ (0,05) $\\rightarrow$ H$_0$ ne peut pas être rejeté\n",
    "\n",
    "La distribution semble issue d'une distribution normale"
   ]
  },
  {
   "cell_type": "markdown",
   "metadata": {},
   "source": [
    "### Homogénéité des variances\n",
    "\n",
    "H$_0$ : $\\sigma_1$ = $\\sigma_2$\n",
    "\n",
    "H$_a$ : $\\sigma_1$ $\\ne$$\\sigma_2$"
   ]
  },
  {
   "cell_type": "code",
   "execution_count": 8,
   "metadata": {
    "ExecuteTime": {
     "end_time": "2021-01-29T10:28:00.629789Z",
     "start_time": "2021-01-29T10:28:00.297Z"
    }
   },
   "outputs": [
    {
     "data": {
      "image/png": "[encoded data removed]",
      "text/plain": [
       "plot without title"
      ]
     },
     "metadata": {
      "image/png": {
       "height": 420,
       "width": 420
      }
     },
     "output_type": "display_data"
    }
   ],
   "source": [
    "ggplot(data, aes(x=Hauteur, color=I)) + geom_density(kernel='gaussian')"
   ]
  },
  {
   "cell_type": "code",
   "execution_count": 9,
   "metadata": {
    "ExecuteTime": {
     "end_time": "2021-01-29T10:28:01.664509Z",
     "start_time": "2021-01-29T10:28:01.622Z"
    }
   },
   "outputs": [
    {
     "data": {
      "text/plain": [
       "\n",
       "\tBartlett test of homogeneity of variances\n",
       "\n",
       "data:  Hauteur by I\n",
       "Bartlett's K-squared = 3.3336, df = 1, p-value = 0.06788\n"
      ]
     },
     "metadata": {},
     "output_type": "display_data"
    }
   ],
   "source": [
    "bartlett.test(Hauteur ~ I, data=data)"
   ]
  },
  {
   "cell_type": "markdown",
   "metadata": {},
   "source": [
    "### Les moyennes sont-elles différentes?\n",
    "\n",
    "H$_0$ $\\mu_1$ = $\\mu_2$\n",
    "\n",
    "H$_a$ $\\mu_1$ $\\ne$$\\mu_2$"
   ]
  },
  {
   "cell_type": "code",
   "execution_count": 32,
   "metadata": {
    "ExecuteTime": {
     "end_time": "2021-01-29T10:33:23.075146Z",
     "start_time": "2021-01-29T10:33:23.029Z"
    }
   },
   "outputs": [
    {
     "data": {
      "text/plain": [
       "\n",
       "\tKruskal-Wallis rank sum test\n",
       "\n",
       "data:  Hauteur by I\n",
       "Kruskal-Wallis chi-squared = 42.148, df = 1, p-value = 8.46e-11\n"
      ]
     },
     "metadata": {},
     "output_type": "display_data"
    }
   ],
   "source": [
    "kruskal.test(Hauteur ~ I, data=data)"
   ]
  },
  {
   "cell_type": "markdown",
   "metadata": {},
   "source": [
    "## Poids sec"
   ]
  },
  {
   "cell_type": "code",
   "execution_count": 11,
   "metadata": {
    "ExecuteTime": {
     "end_time": "2021-01-29T10:28:15.025443Z",
     "start_time": "2021-01-29T10:28:14.795Z"
    }
   },
   "outputs": [
    {
     "data": {
      "image/png": "[encoded data removed]",
      "text/plain": [
       "plot without title"
      ]
     },
     "metadata": {
      "image/png": {
       "height": 420,
       "width": 420
      }
     },
     "output_type": "display_data"
    }
   ],
   "source": [
    "ggplot(data) + geom_boxplot(aes(y= Poids.sec, x=I))"
   ]
  },
  {
   "cell_type": "markdown",
   "metadata": {},
   "source": [
    "Les distributions semblent contenir des outliers"
   ]
  },
  {
   "cell_type": "code",
   "execution_count": 12,
   "metadata": {
    "ExecuteTime": {
     "end_time": "2021-01-29T10:28:15.757250Z",
     "start_time": "2021-01-29T10:28:15.728Z"
    }
   },
   "outputs": [],
   "source": [
    "I = data[ which(data$I == TRUE), ]\n",
    "NI = data[ which(data$I == FALSE), ]"
   ]
  },
  {
   "cell_type": "code",
   "execution_count": 13,
   "metadata": {
    "ExecuteTime": {
     "end_time": "2021-01-29T10:28:16.326086Z",
     "start_time": "2021-01-29T10:28:16.283Z"
    }
   },
   "outputs": [
    {
     "data": {
      "text/html": [
       "<style>\n",
       ".dl-inline {width: auto; margin:0; padding: 0}\n",
       ".dl-inline>dt, .dl-inline>dd {float: none; width: auto; display: inline-block}\n",
       ".dl-inline>dt::after {content: \":\\0020\"; padding-right: .5ex}\n",
       ".dl-inline>dt:not(:first-of-type) {padding-left: .5ex}\n",
       "</style><dl class=dl-inline><dt>25%</dt><dd>3.31333333333333</dd><dt>75%</dt><dd>4.44</dd></dl>\n"
      ],
      "text/latex": [
       "\\begin{description*}\n",
       "\\item[25\\textbackslash{}\\%] 3.31333333333333\n",
       "\\item[75\\textbackslash{}\\%] 4.44\n",
       "\\end{description*}\n"
      ],
      "text/markdown": [
       "25%\n",
       ":   3.3133333333333375%\n",
       ":   4.44\n",
       "\n"
      ],
      "text/plain": [
       "     25%      75% \n",
       "3.313333 4.440000 "
      ]
     },
     "metadata": {},
     "output_type": "display_data"
    }
   ],
   "source": [
    "Q_I <- quantile(I$Poids.sec, probs=c(.25, .75))\n",
    "Q_I"
   ]
  },
  {
   "cell_type": "code",
   "execution_count": 14,
   "metadata": {
    "ExecuteTime": {
     "end_time": "2021-01-29T10:28:16.831767Z",
     "start_time": "2021-01-29T10:28:16.786Z"
    }
   },
   "outputs": [
    {
     "data": {
      "text/html": [
       "1.12666666666667"
      ],
      "text/latex": [
       "1.12666666666667"
      ],
      "text/markdown": [
       "1.12666666666667"
      ],
      "text/plain": [
       "[1] 1.126667"
      ]
     },
     "metadata": {},
     "output_type": "display_data"
    }
   ],
   "source": [
    "iqr_I <- IQR(I$Poids.sec)\n",
    "iqr_I"
   ]
  },
  {
   "cell_type": "code",
   "execution_count": 15,
   "metadata": {
    "ExecuteTime": {
     "end_time": "2021-01-29T10:28:17.592652Z",
     "start_time": "2021-01-29T10:28:17.549Z"
    }
   },
   "outputs": [
    {
     "data": {
      "text/html": [
       "<strong>75%:</strong> 6.13"
      ],
      "text/latex": [
       "\\textbf{75\\textbackslash{}\\%:} 6.13"
      ],
      "text/markdown": [
       "**75%:** 6.13"
      ],
      "text/plain": [
       " 75% \n",
       "6.13 "
      ]
     },
     "metadata": {},
     "output_type": "display_data"
    },
    {
     "data": {
      "text/html": [
       "<strong>25%:</strong> 1.62333333333333"
      ],
      "text/latex": [
       "\\textbf{25\\textbackslash{}\\%:} 1.62333333333333"
      ],
      "text/markdown": [
       "**25%:** 1.62333333333333"
      ],
      "text/plain": [
       "     25% \n",
       "1.623333 "
      ]
     },
     "metadata": {},
     "output_type": "display_data"
    }
   ],
   "source": [
    "up_I = Q_I[2] + 1.5 * iqr_I\n",
    "low_I = Q_I[1] - 1.5 * iqr_I\n",
    "up_I\n",
    "low_I"
   ]
  },
  {
   "cell_type": "code",
   "execution_count": 16,
   "metadata": {
    "ExecuteTime": {
     "end_time": "2021-01-29T10:28:18.371769Z",
     "start_time": "2021-01-29T10:28:18.324Z"
    }
   },
   "outputs": [
    {
     "data": {
      "text/html": [
       "<style>\n",
       ".dl-inline {width: auto; margin:0; padding: 0}\n",
       ".dl-inline>dt, .dl-inline>dd {float: none; width: auto; display: inline-block}\n",
       ".dl-inline>dt::after {content: \":\\0020\"; padding-right: .5ex}\n",
       ".dl-inline>dt:not(:first-of-type) {padding-left: .5ex}\n",
       "</style><dl class=dl-inline><dt>25%</dt><dd>2.068</dd><dt>75%</dt><dd>2.7315</dd></dl>\n"
      ],
      "text/latex": [
       "\\begin{description*}\n",
       "\\item[25\\textbackslash{}\\%] 2.068\n",
       "\\item[75\\textbackslash{}\\%] 2.7315\n",
       "\\end{description*}\n"
      ],
      "text/markdown": [
       "25%\n",
       ":   2.06875%\n",
       ":   2.7315\n",
       "\n"
      ],
      "text/plain": [
       "   25%    75% \n",
       "2.0680 2.7315 "
      ]
     },
     "metadata": {},
     "output_type": "display_data"
    }
   ],
   "source": [
    "Q_NI <- quantile(NI$Poids.sec, probs=c(.25, .75))\n",
    "Q_NI"
   ]
  },
  {
   "cell_type": "code",
   "execution_count": 17,
   "metadata": {
    "ExecuteTime": {
     "end_time": "2021-01-29T10:28:19.049725Z",
     "start_time": "2021-01-29T10:28:19.012Z"
    }
   },
   "outputs": [
    {
     "data": {
      "text/html": [
       "0.6635"
      ],
      "text/latex": [
       "0.6635"
      ],
      "text/markdown": [
       "0.6635"
      ],
      "text/plain": [
       "[1] 0.6635"
      ]
     },
     "metadata": {},
     "output_type": "display_data"
    }
   ],
   "source": [
    "iqr_NI <- IQR(NI$Poids.sec)\n",
    "iqr_NI"
   ]
  },
  {
   "cell_type": "code",
   "execution_count": 18,
   "metadata": {
    "ExecuteTime": {
     "end_time": "2021-01-29T10:28:19.586366Z",
     "start_time": "2021-01-29T10:28:19.539Z"
    }
   },
   "outputs": [
    {
     "data": {
      "text/html": [
       "<strong>75%:</strong> 3.72675"
      ],
      "text/latex": [
       "\\textbf{75\\textbackslash{}\\%:} 3.72675"
      ],
      "text/markdown": [
       "**75%:** 3.72675"
      ],
      "text/plain": [
       "    75% \n",
       "3.72675 "
      ]
     },
     "metadata": {},
     "output_type": "display_data"
    },
    {
     "data": {
      "text/html": [
       "<strong>25%:</strong> 1.07275"
      ],
      "text/latex": [
       "\\textbf{25\\textbackslash{}\\%:} 1.07275"
      ],
      "text/markdown": [
       "**25%:** 1.07275"
      ],
      "text/plain": [
       "    25% \n",
       "1.07275 "
      ]
     },
     "metadata": {},
     "output_type": "display_data"
    }
   ],
   "source": [
    "up_NI = Q_NI[2] + 1.5 * iqr_NI\n",
    "low_NI = Q_NI[1] - 1.5 * iqr_NI\n",
    "up_NI\n",
    "low_NI"
   ]
  },
  {
   "cell_type": "code",
   "execution_count": 19,
   "metadata": {
    "ExecuteTime": {
     "end_time": "2021-01-29T10:28:20.139239Z",
     "start_time": "2021-01-29T10:28:20.103Z"
    }
   },
   "outputs": [],
   "source": [
    "I_NO <- subset(I, Poids.sec > low_I & Poids.sec < up_I)"
   ]
  },
  {
   "cell_type": "code",
   "execution_count": 20,
   "metadata": {
    "ExecuteTime": {
     "end_time": "2021-01-29T10:28:21.303581Z",
     "start_time": "2021-01-29T10:28:21.275Z"
    }
   },
   "outputs": [],
   "source": [
    "NI_NO <- subset(NI, Poids.sec > low_NI & Poids.sec < up_NI)"
   ]
  },
  {
   "cell_type": "code",
   "execution_count": 21,
   "metadata": {
    "ExecuteTime": {
     "end_time": "2021-01-29T10:28:21.873051Z",
     "start_time": "2021-01-29T10:28:21.492Z"
    }
   },
   "outputs": [],
   "source": [
    "data_NO <- rbind(NI_NO, I_NO)"
   ]
  },
  {
   "cell_type": "code",
   "execution_count": 22,
   "metadata": {
    "ExecuteTime": {
     "end_time": "2021-01-29T10:28:22.684986Z",
     "start_time": "2021-01-29T10:28:21.907Z"
    }
   },
   "outputs": [
    {
     "data": {
      "image/png": "[encoded data removed]",
      "text/plain": [
       "plot without title"
      ]
     },
     "metadata": {
      "image/png": {
       "height": 420,
       "width": 420
      }
     },
     "output_type": "display_data"
    }
   ],
   "source": [
    "ggplot(data_NO) + geom_boxplot(aes(y= Poids.sec, x=I))"
   ]
  },
  {
   "cell_type": "markdown",
   "metadata": {},
   "source": [
    "### Test de normalité\n",
    "\n",
    "H$_0$ l'échantillon provient d'une distribution normale"
   ]
  },
  {
   "cell_type": "code",
   "execution_count": 23,
   "metadata": {
    "ExecuteTime": {
     "end_time": "2021-01-29T10:28:27.695290Z",
     "start_time": "2021-01-29T10:28:27.363Z"
    }
   },
   "outputs": [
    {
     "data": {
      "image/png": "[encoded data removed]",
      "text/plain": [
       "plot without title"
      ]
     },
     "metadata": {
      "image/png": {
       "height": 420,
       "width": 420
      }
     },
     "output_type": "display_data"
    }
   ],
   "source": [
    "ggplot(data_NO) + geom_density(kernel='gaussian', aes(x=Poids.sec))"
   ]
  },
  {
   "cell_type": "code",
   "execution_count": 24,
   "metadata": {
    "ExecuteTime": {
     "end_time": "2021-01-29T10:28:28.592946Z",
     "start_time": "2021-01-29T10:28:27.518Z"
    }
   },
   "outputs": [
    {
     "data": {
      "image/png": "[encoded data removed]",
      "text/plain": [
       "plot without title"
      ]
     },
     "metadata": {
      "image/png": {
       "height": 420,
       "width": 420
      }
     },
     "output_type": "display_data"
    }
   ],
   "source": [
    "ggplot(data_NO, aes(x=Poids.sec, color=I)) + geom_density(kernel='gaussian')"
   ]
  },
  {
   "cell_type": "code",
   "execution_count": 25,
   "metadata": {
    "ExecuteTime": {
     "end_time": "2021-01-29T10:28:29.209331Z",
     "start_time": "2021-01-29T10:28:27.652Z"
    }
   },
   "outputs": [
    {
     "data": {
      "text/plain": [
       "\n",
       "\tShapiro-Wilk normality test\n",
       "\n",
       "data:  data_NO$Poids.sec\n",
       "W = 0.97075, p-value = 1.944e-06\n"
      ]
     },
     "metadata": {},
     "output_type": "display_data"
    }
   ],
   "source": [
    "shapiro.test(data_NO$Poids.sec)"
   ]
  },
  {
   "cell_type": "code",
   "execution_count": 26,
   "metadata": {
    "ExecuteTime": {
     "end_time": "2021-01-29T10:28:29.991269Z",
     "start_time": "2021-01-29T10:28:27.748Z"
    }
   },
   "outputs": [
    {
     "data": {
      "image/png": "[encoded data removed]",
      "text/plain": [
       "plot without title"
      ]
     },
     "metadata": {
      "image/png": {
       "height": 420,
       "width": 420
      }
     },
     "output_type": "display_data"
    }
   ],
   "source": [
    "ggplot(NI_NO) + geom_density(kernel='gaussian', aes(x = Poids.sec))"
   ]
  },
  {
   "cell_type": "code",
   "execution_count": 27,
   "metadata": {
    "ExecuteTime": {
     "end_time": "2021-01-29T10:28:30.793123Z",
     "start_time": "2021-01-29T10:28:27.915Z"
    }
   },
   "outputs": [
    {
     "data": {
      "text/plain": [
       "\n",
       "\tShapiro-Wilk normality test\n",
       "\n",
       "data:  NI_NO$Poids.sec\n",
       "W = 0.99188, p-value = 0.4405\n"
      ]
     },
     "metadata": {},
     "output_type": "display_data"
    }
   ],
   "source": [
    "shapiro.test(NI_NO$Poids.sec)"
   ]
  },
  {
   "cell_type": "code",
   "execution_count": 28,
   "metadata": {
    "ExecuteTime": {
     "end_time": "2021-01-29T10:28:31.664853Z",
     "start_time": "2021-01-29T10:28:28.062Z"
    }
   },
   "outputs": [
    {
     "data": {
      "image/png": "[encoded data removed]",
      "text/plain": [
       "plot without title"
      ]
     },
     "metadata": {
      "image/png": {
       "height": 420,
       "width": 420
      }
     },
     "output_type": "display_data"
    }
   ],
   "source": [
    "ggplot(I_NO) + geom_density(kernel='gaussian', aes(x = Poids.sec))"
   ]
  },
  {
   "cell_type": "code",
   "execution_count": 29,
   "metadata": {
    "ExecuteTime": {
     "end_time": "2021-01-29T10:28:32.338063Z",
     "start_time": "2021-01-29T10:28:28.635Z"
    }
   },
   "outputs": [
    {
     "data": {
      "text/plain": [
       "\n",
       "\tShapiro-Wilk normality test\n",
       "\n",
       "data:  I_NO$Poids.sec\n",
       "W = 0.98629, p-value = 0.091\n"
      ]
     },
     "metadata": {},
     "output_type": "display_data"
    }
   ],
   "source": [
    "shapiro.test(I_NO$Poids.sec)"
   ]
  },
  {
   "cell_type": "markdown",
   "metadata": {},
   "source": [
    "### Homogénéité des variances (homoscédasticité)"
   ]
  },
  {
   "cell_type": "code",
   "execution_count": 30,
   "metadata": {
    "ExecuteTime": {
     "end_time": "2021-01-29T10:28:33.110986Z",
     "start_time": "2021-01-29T10:28:29.344Z"
    }
   },
   "outputs": [
    {
     "data": {
      "text/plain": [
       "\n",
       "\tBartlett test of homogeneity of variances\n",
       "\n",
       "data:  Poids.sec by I\n",
       "Bartlett's K-squared = 25.636, df = 1, p-value = 4.122e-07\n"
      ]
     },
     "metadata": {},
     "output_type": "display_data"
    }
   ],
   "source": [
    "bartlett.test(Poids.sec ~ I, data=data)"
   ]
  },
  {
   "cell_type": "markdown",
   "metadata": {},
   "source": [
    "### Les moyennes sont-elles différentes?"
   ]
  },
  {
   "cell_type": "code",
   "execution_count": 31,
   "metadata": {
    "ExecuteTime": {
     "end_time": "2021-01-29T10:32:10.725148Z",
     "start_time": "2021-01-29T10:32:10.690Z"
    }
   },
   "outputs": [
    {
     "data": {
      "text/plain": [
       "\n",
       "\tKruskal-Wallis rank sum test\n",
       "\n",
       "data:  Poids.sec by I\n",
       "Kruskal-Wallis chi-squared = 182.27, df = 1, p-value < 2.2e-16\n"
      ]
     },
     "metadata": {},
     "output_type": "display_data"
    }
   ],
   "source": [
    "kruskal.test(Poids.sec ~ I, data=data)"
   ]
  },
  {
   "cell_type": "code",
   "execution_count": 33,
   "metadata": {
    "ExecuteTime": {
     "end_time": "2021-01-29T10:36:36.104521Z",
     "start_time": "2021-01-29T10:36:36.075Z"
    }
   },
   "outputs": [
    {
     "data": {
      "text/plain": [
       "               _                           \n",
       "platform       x86_64-w64-mingw32          \n",
       "arch           x86_64                      \n",
       "os             mingw32                     \n",
       "system         x86_64, mingw32             \n",
       "status                                     \n",
       "major          4                           \n",
       "minor          0.3                         \n",
       "year           2020                        \n",
       "month          10                          \n",
       "day            10                          \n",
       "svn rev        79318                       \n",
       "language       R                           \n",
       "version.string R version 4.0.3 (2020-10-10)\n",
       "nickname       Bunny-Wunnies Freak Out     "
      ]
     },
     "metadata": {},
     "output_type": "display_data"
    }
   ],
   "source": [
    "version"
   ]
  },
  {
   "cell_type": "code",
   "execution_count": null,
   "metadata": {},
   "outputs": [],
   "source": []
  }
 ],
 "metadata": {
  "kernelspec": {
   "display_name": "R",
   "language": "R",
   "name": "ir"
  },
  "language_info": {
   "codemirror_mode": "r",
   "file_extension": ".r",
   "mimetype": "text/x-r-source",
   "name": "R",
   "pygments_lexer": "r",
   "version": "4.0.3"
  },
  "toc": {
   "base_numbering": 1,
   "nav_menu": {},
   "number_sections": true,
   "sideBar": true,
   "skip_h1_title": false,
   "title_cell": "Table of Contents",
   "title_sidebar": "Contents",
   "toc_cell": false,
   "toc_position": {
    "height": "calc(100% - 180px)",
    "left": "10px",
    "top": "150px",
    "width": "512px"
   },
   "toc_section_display": true,
   "toc_window_display": false
  },
  "varInspector": {
   "cols": {
    "lenName": 16,
    "lenType": 16,
    "lenVar": 40
   },
   "kernels_config": {
    "python": {
     "delete_cmd_postfix": "",
     "delete_cmd_prefix": "del ",
     "library": "var_list.py",
     "varRefreshCmd": "print(var_dic_list())"
    },
    "r": {
     "delete_cmd_postfix": ") ",
     "delete_cmd_prefix": "rm(",
     "library": "var_list.r",
     "varRefreshCmd": "cat(var_dic_list()) "
    }
   },
   "types_to_exclude": [
    "module",
    "function",
    "builtin_function_or_method",
    "instance",
    "_Feature"
   ],
   "window_display": false
  }
 },
 "nbformat": 4,
 "nbformat_minor": 2
}
